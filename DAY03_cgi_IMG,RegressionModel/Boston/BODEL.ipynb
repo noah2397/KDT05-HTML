{
 "cells": [
  {
   "cell_type": "markdown",
   "metadata": {},
   "source": [
    "#### [Pytorch 기반 회귀 모델 구현]   \n",
    "- Layer => Full-Connected Layer, Linear    \n",
    "- 손실함수 => MSELoss, MAELoss    "
   ]
  },
  {
   "cell_type": "code",
   "execution_count": 39,
   "metadata": {},
   "outputs": [],
   "source": [
    "import pandas as pd\n",
    "\n",
    "df=pd.read_csv(\"./BostonHousing.csv\")\n",
    "feature = df[df.columns[:-1]]\n",
    "target = df[df.columns[-1]]"
   ]
  },
  {
   "cell_type": "code",
   "execution_count": 40,
   "metadata": {},
   "outputs": [
    {
     "name": "stdout",
     "output_type": "stream",
     "text": [
      "MSE:  21.894831181729206\n"
     ]
    }
   ],
   "source": [
    "# 머신러닝으로 만들기 \n",
    "from sklearn.linear_model import LinearRegression\n",
    "model = LinearRegression()\n",
    "model.fit(feature, target)\n",
    "\n",
    "# 모델 평가\n",
    "from sklearn.metrics import mean_squared_error\n",
    "prediction = model.predict(feature)\n",
    "mse = mean_squared_error(target, prediction)\n",
    "print(\"MSE: \", mse)"
   ]
  },
  {
   "cell_type": "code",
   "execution_count": 41,
   "metadata": {},
   "outputs": [],
   "source": [
    "# 딥러닝으로 만들기\n",
    "import torch\n",
    "import torch.nn as nn\n",
    "import torch.optim as optim\n",
    "from torch.utils.data import DataLoader, Dataset\n",
    "\n",
    "# 데이터셋 클래스 생성\n",
    "class BostonDataset(Dataset):\n",
    "    def __init__(self, df):\n",
    "        super().__init__()\n",
    "        df=pd.read_csv(\"./BostonHousing.csv\")\n",
    "        feature = df[df.columns[:-1]]\n",
    "        target = df[df.columns[-1]]\n",
    "        self.feature = torch.tensor(feature.values, dtype=torch.float32)\n",
    "        self.target = torch.tensor(target.values, dtype=torch.float32).view(-1, 1)\n",
    "    \n",
    "    def __len__(self):\n",
    "        return len(self.feature)\n",
    "    \n",
    "    def __getitem__(self, idx):\n",
    "        return self.feature[idx], self.target[idx]\n",
    "    \n",
    "    def normalize(self):\n",
    "        self.feature = (self.feature - self.feature.mean()) / self.feature.std()\n",
    "        self.target = (self.target - self.target.mean()) / self.target.std()"
   ]
  },
  {
   "cell_type": "code",
   "execution_count": 42,
   "metadata": {},
   "outputs": [],
   "source": [
    "trainDS = BostonDataset(df)"
   ]
  },
  {
   "cell_type": "code",
   "execution_count": 43,
   "metadata": {},
   "outputs": [],
   "source": [
    "import torch.nn as nn\n",
    "import torch.nn.functional as F\n",
    "\n",
    "class LinearModel(nn.Module):\n",
    "    def __init__(self):\n",
    "        super(LinearModel, self).__init__()\n",
    "        self.linear = nn.Linear(13, 1)\n",
    "    \n",
    "    def forward(self, x):\n",
    "        return self.linear(x)"
   ]
  },
  {
   "cell_type": "code",
   "execution_count": 44,
   "metadata": {},
   "outputs": [
    {
     "name": "stdout",
     "output_type": "stream",
     "text": [
      "epoch: 0, loss: 1551.9984130859375\n"
     ]
    },
    {
     "name": "stdout",
     "output_type": "stream",
     "text": [
      "epoch: 100, loss: 24.422204971313477\n",
      "epoch: 200, loss: 12.800212860107422\n",
      "epoch: 300, loss: 61.30430221557617\n",
      "epoch: 400, loss: 23.849180221557617\n",
      "epoch: 500, loss: 29.998952865600586\n",
      "epoch: 600, loss: 119.99533081054688\n",
      "epoch: 700, loss: 15.300082206726074\n",
      "epoch: 800, loss: 26.568166732788086\n",
      "epoch: 900, loss: 14.348891258239746\n"
     ]
    }
   ],
   "source": [
    "import numpy as np\n",
    "\n",
    "model = LinearModel()\n",
    "criterion = nn.MSELoss()\n",
    "optimizer = optim.AdamW(model.parameters())\n",
    "max=1000\n",
    "train_loader = DataLoader(trainDS, batch_size=10, shuffle=True)\n",
    "\n",
    "for epoch in range(1000):\n",
    "    for feature, target in train_loader:\n",
    "        optimizer.zero_grad()\n",
    "        output = model(feature)\n",
    "        loss = criterion(output, target)\n",
    "        loss.backward()\n",
    "        optimizer.step()\n",
    "        if loss < max :\n",
    "            max=loss\n",
    "            torch.save(model, \"optim.pth\")\n",
    "    if epoch % 100 == 0:\n",
    "        print(\"epoch: {}, loss: {}\".format(epoch, 0 if np.nan==loss.item() else loss.item()))"
   ]
  },
  {
   "cell_type": "code",
   "execution_count": 45,
   "metadata": {},
   "outputs": [
    {
     "name": "stdout",
     "output_type": "stream",
     "text": [
      "MSE:  26.40672492980957\n"
     ]
    }
   ],
   "source": [
    "model=torch.load(\"optim.pth\")\n",
    "prediction = model(trainDS.feature)\n",
    "mse = criterion(prediction, trainDS.target)\n",
    "print(\"MSE: \", mse.item())"
   ]
  }
 ],
 "metadata": {
  "kernelspec": {
   "display_name": "TEXT_017_220_38",
   "language": "python",
   "name": "python3"
  },
  "language_info": {
   "codemirror_mode": {
    "name": "ipython",
    "version": 3
   },
   "file_extension": ".py",
   "mimetype": "text/x-python",
   "name": "python",
   "nbconvert_exporter": "python",
   "pygments_lexer": "ipython3",
   "version": "3.8.19"
  }
 },
 "nbformat": 4,
 "nbformat_minor": 2
}
