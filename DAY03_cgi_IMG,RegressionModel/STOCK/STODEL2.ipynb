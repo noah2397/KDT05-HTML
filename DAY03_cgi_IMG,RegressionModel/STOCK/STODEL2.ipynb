{
 "cells": [
  {
   "cell_type": "code",
   "execution_count": 122,
   "metadata": {},
   "outputs": [
    {
     "data": {
      "text/plain": [
       "Date      0\n",
       "Open      0\n",
       "High      0\n",
       "Low       0\n",
       "Volume    0\n",
       "Close     0\n",
       "dtype: int64"
      ]
     },
     "execution_count": 122,
     "metadata": {},
     "output_type": "execute_result"
    }
   ],
   "source": [
    "# 전제 : 시계열 데이터 처리\n",
    "import pandas as pd\n",
    "df = pd.read_csv(\"stock.csv\")\n",
    "df.isna().sum()"
   ]
  },
  {
   "cell_type": "code",
   "execution_count": 123,
   "metadata": {},
   "outputs": [],
   "source": [
    "df.drop([\"Date\",\"Volume\"], axis=1, inplace=True)"
   ]
  },
  {
   "cell_type": "code",
   "execution_count": 124,
   "metadata": {},
   "outputs": [
    {
     "data": {
      "text/html": [
       "<div>\n",
       "<style scoped>\n",
       "    .dataframe tbody tr th:only-of-type {\n",
       "        vertical-align: middle;\n",
       "    }\n",
       "\n",
       "    .dataframe tbody tr th {\n",
       "        vertical-align: top;\n",
       "    }\n",
       "\n",
       "    .dataframe thead th {\n",
       "        text-align: right;\n",
       "    }\n",
       "</style>\n",
       "<table border=\"1\" class=\"dataframe\">\n",
       "  <thead>\n",
       "    <tr style=\"text-align: right;\">\n",
       "      <th></th>\n",
       "      <th>Open</th>\n",
       "      <th>High</th>\n",
       "      <th>Low</th>\n",
       "      <th>Close</th>\n",
       "    </tr>\n",
       "  </thead>\n",
       "  <tbody>\n",
       "    <tr>\n",
       "      <th>0</th>\n",
       "      <td>120</td>\n",
       "      <td>123</td>\n",
       "      <td>118</td>\n",
       "      <td>123</td>\n",
       "    </tr>\n",
       "    <tr>\n",
       "      <th>1</th>\n",
       "      <td>124</td>\n",
       "      <td>126</td>\n",
       "      <td>122</td>\n",
       "      <td>123</td>\n",
       "    </tr>\n",
       "    <tr>\n",
       "      <th>2</th>\n",
       "      <td>121</td>\n",
       "      <td>122</td>\n",
       "      <td>118</td>\n",
       "      <td>118</td>\n",
       "    </tr>\n",
       "    <tr>\n",
       "      <th>3</th>\n",
       "      <td>120</td>\n",
       "      <td>120</td>\n",
       "      <td>116</td>\n",
       "      <td>117</td>\n",
       "    </tr>\n",
       "    <tr>\n",
       "      <th>4</th>\n",
       "      <td>117</td>\n",
       "      <td>117</td>\n",
       "      <td>115</td>\n",
       "      <td>116</td>\n",
       "    </tr>\n",
       "    <tr>\n",
       "      <th>...</th>\n",
       "      <td>...</td>\n",
       "      <td>...</td>\n",
       "      <td>...</td>\n",
       "      <td>...</td>\n",
       "    </tr>\n",
       "    <tr>\n",
       "      <th>962</th>\n",
       "      <td>284</td>\n",
       "      <td>287</td>\n",
       "      <td>282</td>\n",
       "      <td>286</td>\n",
       "    </tr>\n",
       "    <tr>\n",
       "      <th>963</th>\n",
       "      <td>284</td>\n",
       "      <td>286</td>\n",
       "      <td>279</td>\n",
       "      <td>284</td>\n",
       "    </tr>\n",
       "    <tr>\n",
       "      <th>964</th>\n",
       "      <td>283</td>\n",
       "      <td>288</td>\n",
       "      <td>281</td>\n",
       "      <td>286</td>\n",
       "    </tr>\n",
       "    <tr>\n",
       "      <th>965</th>\n",
       "      <td>304</td>\n",
       "      <td>309</td>\n",
       "      <td>288</td>\n",
       "      <td>293</td>\n",
       "    </tr>\n",
       "    <tr>\n",
       "      <th>966</th>\n",
       "      <td>289</td>\n",
       "      <td>291</td>\n",
       "      <td>273</td>\n",
       "      <td>275</td>\n",
       "    </tr>\n",
       "  </tbody>\n",
       "</table>\n",
       "<p>967 rows × 4 columns</p>\n",
       "</div>"
      ],
      "text/plain": [
       "     Open  High  Low  Close\n",
       "0     120   123  118    123\n",
       "1     124   126  122    123\n",
       "2     121   122  118    118\n",
       "3     120   120  116    117\n",
       "4     117   117  115    116\n",
       "..    ...   ...  ...    ...\n",
       "962   284   287  282    286\n",
       "963   284   286  279    284\n",
       "964   283   288  281    286\n",
       "965   304   309  288    293\n",
       "966   289   291  273    275\n",
       "\n",
       "[967 rows x 4 columns]"
      ]
     },
     "execution_count": 124,
     "metadata": {},
     "output_type": "execute_result"
    }
   ],
   "source": [
    "df"
   ]
  },
  {
   "cell_type": "code",
   "execution_count": 125,
   "metadata": {},
   "outputs": [],
   "source": [
    "# stock : \n",
    "# 닫을 때 종가가 target이다 \n",
    "# 주식을 며칠동안 볼건지 구간을 정해야 한다\n",
    "# 한달이면 30일 \n",
    "# 30일치 데이터를 가지고 내일 종가를 예측하겠다\n",
    "# Open High Low 만 feature다 "
   ]
  },
  {
   "cell_type": "code",
   "execution_count": 126,
   "metadata": {},
   "outputs": [],
   "source": [
    "# 딥러닝 RNN 으로 시계열 데이터 처리\n",
    "# dataset, DataLoader import 하기\n",
    "import torch\n",
    "from torch.utils.data import Dataset, DataLoader\n",
    "import numpy as np\n",
    "# stockDataset 데이터셋 클래스 생성\n",
    "# feature : Open, High, Low\n",
    "# target : Close\n",
    "\n",
    "class StockDS(Dataset):  # 클래스 선언\n",
    "    def __init__(self, filename):\n",
    "        self.csvDF = pd.read_csv(filename)            # 데이터 읽기\n",
    "\n",
    "        # 입력 데이터 정규화\n",
    "        self.data = self.csvDF.iloc[:, 1:4].values                        # 종가 제외한 데이터\n",
    "        self.data = self.data / np.max(self.data)                       # 0과 1 사이로 정규화\n",
    "\n",
    "        # 종가 데이터 정규화\n",
    "        self.label = self.csvDF[\"Close\"].values         \n",
    "        self.label = self.label / np.max(self.label)\n",
    "        \n",
    "    def __len__(self):\n",
    "        return len(self.data) - 30                                  # 사용 가능한 배치 개수\n",
    "\n",
    "    def __getitem__(self, i):\n",
    "        data = self.data[i:i+30]                                        # 입력 데이터 30일치 읽기\n",
    "        label = self.label[i+30]                                        # 다음 날 종가 데이터 \n",
    "\n",
    "        return data, label\n"
   ]
  },
  {
   "cell_type": "code",
   "execution_count": 127,
   "metadata": {},
   "outputs": [],
   "source": [
    "import torch.nn as nn\n",
    "\n",
    "\n",
    "class RNN(nn.Module):\n",
    "   def __init__(self):\n",
    "       super(RNN, self).__init__()\n",
    "\n",
    "       self.rnn = nn.RNN(input_size=3, hidden_size=8, num_layers=5, batch_first=True)  # RNN층의 정의\n",
    "\n",
    "       # 주가를 예측하는 MLP층 정의\n",
    "       self.fc1 = nn.Linear(in_features=240, out_features=64)\n",
    "       self.fc2 = nn.Linear(in_features=64, out_features=1)\n",
    "\n",
    "       self.relu = nn.ReLU() # 활성화 함수 정의\n",
    "        \n",
    "   def forward(self, x, h0):\n",
    "       x, hn = self.rnn(x, h0)  # RNN층의 출력\n",
    "\n",
    "       # MLP층의 입력으로 사용될 수 있도록 모양 변경\n",
    "       x = torch.reshape(x, (x.shape[0], -1))\n",
    "\n",
    "       # MLP 층을 이용해 종가를 예측\n",
    "       x = self.fc1(x)\n",
    "       x = self.relu(x)\n",
    "       x = self.fc2(x)\n",
    "      \n",
    "       # 예측한 종가를 1차원 벡터로 표현\n",
    "       x = torch.flatten(x)\n",
    "\n",
    "       return x"
   ]
  },
  {
   "cell_type": "code",
   "execution_count": 128,
   "metadata": {},
   "outputs": [],
   "source": [
    "import tqdm\n",
    "\n",
    "from torch.optim.adam import Adam\n",
    "from torch.utils.data.dataloader import DataLoader\n",
    "\n",
    "device = \"cuda\" if torch.cuda.is_available() else \"cpu\"\n",
    "\n",
    "model = RNN().to(device)                         # 모델의 정의\n",
    "dataset = StockDS(\"./stock.csv\")                         # 데이터셋의 정의\n",
    "loader = DataLoader(dataset, batch_size=32)         # 배치 크기 32로 설정\n",
    "optim = Adam(params=model.parameters(), lr=0.0001)          # 최적화 설정"
   ]
  },
  {
   "cell_type": "code",
   "execution_count": 129,
   "metadata": {},
   "outputs": [
    {
     "name": "stdout",
     "output_type": "stream",
     "text": [
      "0 0.10769069194793701\n",
      "1 0.02181369438767433\n",
      "2 0.012449126690626144\n",
      "3 0.012483852915465832\n",
      "4 0.012781981378793716\n",
      "5 0.012768477201461792\n",
      "6 0.012700791470706463\n",
      "7 0.01264248974621296\n",
      "8 0.012590251863002777\n",
      "9 0.01253923587501049\n",
      "10 0.012487431056797504\n",
      "11 0.012433560565114021\n",
      "12 0.012376337312161922\n",
      "13 0.012314332649111748\n",
      "14 0.012246121652424335\n",
      "15 0.012170000933110714\n",
      "16 0.012083988636732101\n",
      "17 0.011985846795141697\n",
      "18 0.01187281683087349\n",
      "19 0.011741459369659424\n",
      "20 0.011587534099817276\n",
      "21 0.01140531525015831\n",
      "22 0.011187391355633736\n",
      "23 0.010923713445663452\n",
      "24 0.010592729784548283\n",
      "25 0.010199401527643204\n",
      "26 0.009916509501636028\n",
      "27 0.008401157334446907\n",
      "28 0.007511220872402191\n",
      "29 0.0064053307287395\n",
      "30 0.004847228992730379\n",
      "31 0.003012371249496937\n",
      "32 0.0008468953892588615\n",
      "33 0.0004985987907275558\n",
      "34 0.0018279541982337832\n",
      "35 0.0038502344395965338\n",
      "36 0.0033625937066972256\n",
      "37 0.0034587366972118616\n",
      "38 0.0033160201273858547\n",
      "39 0.003333688946440816\n",
      "40 0.003319314680993557\n",
      "41 0.0032951529137790203\n",
      "42 0.0032794615253806114\n",
      "43 0.003250779351219535\n",
      "44 0.0032299631275236607\n",
      "45 0.0032029137946665287\n",
      "46 0.003186207264661789\n",
      "47 0.0031634513288736343\n",
      "48 0.0031445957720279694\n",
      "49 0.00312385568395257\n"
     ]
    }
   ],
   "source": [
    "import numpy as np\n",
    "for epoch in range(50):\n",
    "\n",
    "    for i, (x, y) in enumerate(loader):\n",
    "        optim.zero_grad()\n",
    "        \n",
    "        h0 = torch.zeros(5, x.shape[0], 8).to(device)\n",
    "        pred = model(x.type(torch.FloatTensor).to(device), h0)\n",
    "        loss = nn.MSELoss()(pred, y.type(torch.FloatTensor).to(device))\n",
    "            \n",
    "        loss.backward()\n",
    "        optim.step()\n",
    "\n",
    "    print(epoch, loss.item())\n"
   ]
  },
  {
   "cell_type": "code",
   "execution_count": 130,
   "metadata": {},
   "outputs": [
    {
     "data": {
      "text/plain": [
       "0.002549397526308894"
      ]
     },
     "execution_count": 130,
     "metadata": {},
     "output_type": "execute_result"
    }
   ],
   "source": [
    "import matplotlib.pyplot as plt\n",
    "\n",
    "loader = DataLoader(dataset, batch_size=1)  # 예측값을 위한 데이터 로더\n",
    "\n",
    "preds = []  # 예측값들을 저장하는 리스트\n",
    "total_loss = 0\n",
    "\n",
    "with torch.no_grad():\n",
    "   for data, label in loader:\n",
    "       h0 = torch.zeros(5, data.shape[0], 8).to(device)  # 초기 은닉상태 정의\n",
    "\n",
    "       # 모델의 예측값 출력\n",
    "       pred = model(data.type(torch.FloatTensor).to(device), h0)\n",
    "       preds.append(pred.item())                                     # 예측값 리스트에 추가\n",
    "       loss = nn.MSELoss()(pred,label.type(torch.FloatTensor).to(device))     # 손실계산\n",
    "       total_loss += loss/len(loader)                                   # 손실의 평균치 계산\n",
    "\n",
    "total_loss.item()"
   ]
  },
  {
   "cell_type": "code",
   "execution_count": 131,
   "metadata": {},
   "outputs": [
    {
     "data": {
      "image/png": "[encoded data removed]",
      "text/plain": [
       "<Figure size 640x480 with 1 Axes>"
      ]
     },
     "metadata": {},
     "output_type": "display_data"
    }
   ],
   "source": [
    "plt.plot(preds, label=\"prediction\")\n",
    "plt.plot(dataset.label[30:], label=\"actual\")\n",
    "plt.legend()\n",
    "plt.show()"
   ]
  },
  {
   "cell_type": "code",
   "execution_count": null,
   "metadata": {},
   "outputs": [],
   "source": []
  }
 ],
 "metadata": {
  "kernelspec": {
   "display_name": "TEXT_017_220_38",
   "language": "python",
   "name": "python3"
  },
  "language_info": {
   "codemirror_mode": {
    "name": "ipython",
    "version": 3
   },
   "file_extension": ".py",
   "mimetype": "text/x-python",
   "name": "python",
   "nbconvert_exporter": "python",
   "pygments_lexer": "ipython3",
   "version": "3.8.19"
  }
 },
 "nbformat": 4,
 "nbformat_minor": 2
}
