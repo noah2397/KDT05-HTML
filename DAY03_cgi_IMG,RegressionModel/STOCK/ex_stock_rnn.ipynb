{
 "cells": [
  {
   "cell_type": "code",
   "execution_count": 1,
   "metadata": {},
   "outputs": [],
   "source": [
    "import pandas as pd \n",
    "import numpy as np "
   ]
  },
  {
   "cell_type": "code",
   "execution_count": 2,
   "metadata": {},
   "outputs": [],
   "source": [
    "filename = './stock.csv'"
   ]
  },
  {
   "cell_type": "code",
   "execution_count": 3,
   "metadata": {},
   "outputs": [
    {
     "name": "stdout",
     "output_type": "stream",
     "text": [
      "<class 'pandas.core.frame.DataFrame'>\n",
      "RangeIndex: 967 entries, 0 to 966\n",
      "Data columns (total 6 columns):\n",
      " #   Column  Non-Null Count  Dtype \n",
      "---  ------  --------------  ----- \n",
      " 0   Date    967 non-null    object\n",
      " 1   Open    967 non-null    int64 \n",
      " 2   High    967 non-null    int64 \n",
      " 3   Low     967 non-null    int64 \n",
      " 4   Volume  967 non-null    int64 \n",
      " 5   Close   967 non-null    int64 \n",
      "dtypes: int64(5), object(1)\n",
      "memory usage: 45.5+ KB\n"
     ]
    },
    {
     "data": {
      "text/html": [
       "<div>\n",
       "<style scoped>\n",
       "    .dataframe tbody tr th:only-of-type {\n",
       "        vertical-align: middle;\n",
       "    }\n",
       "\n",
       "    .dataframe tbody tr th {\n",
       "        vertical-align: top;\n",
       "    }\n",
       "\n",
       "    .dataframe thead th {\n",
       "        text-align: right;\n",
       "    }\n",
       "</style>\n",
       "<table border=\"1\" class=\"dataframe\">\n",
       "  <thead>\n",
       "    <tr style=\"text-align: right;\">\n",
       "      <th></th>\n",
       "      <th>Date</th>\n",
       "      <th>Open</th>\n",
       "      <th>High</th>\n",
       "      <th>Low</th>\n",
       "      <th>Volume</th>\n",
       "      <th>Close</th>\n",
       "    </tr>\n",
       "  </thead>\n",
       "  <tbody>\n",
       "    <tr>\n",
       "      <th>0</th>\n",
       "      <td>2015-12-16</td>\n",
       "      <td>120</td>\n",
       "      <td>123</td>\n",
       "      <td>118</td>\n",
       "      <td>13181000</td>\n",
       "      <td>123</td>\n",
       "    </tr>\n",
       "    <tr>\n",
       "      <th>1</th>\n",
       "      <td>2015-12-17</td>\n",
       "      <td>124</td>\n",
       "      <td>126</td>\n",
       "      <td>122</td>\n",
       "      <td>17284900</td>\n",
       "      <td>123</td>\n",
       "    </tr>\n",
       "    <tr>\n",
       "      <th>2</th>\n",
       "      <td>2015-12-18</td>\n",
       "      <td>121</td>\n",
       "      <td>122</td>\n",
       "      <td>118</td>\n",
       "      <td>17948100</td>\n",
       "      <td>118</td>\n",
       "    </tr>\n",
       "    <tr>\n",
       "      <th>3</th>\n",
       "      <td>2015-12-21</td>\n",
       "      <td>120</td>\n",
       "      <td>120</td>\n",
       "      <td>116</td>\n",
       "      <td>11670000</td>\n",
       "      <td>117</td>\n",
       "    </tr>\n",
       "    <tr>\n",
       "      <th>4</th>\n",
       "      <td>2015-12-22</td>\n",
       "      <td>117</td>\n",
       "      <td>117</td>\n",
       "      <td>115</td>\n",
       "      <td>9689000</td>\n",
       "      <td>116</td>\n",
       "    </tr>\n",
       "  </tbody>\n",
       "</table>\n",
       "</div>"
      ],
      "text/plain": [
       "         Date  Open  High  Low    Volume  Close\n",
       "0  2015-12-16   120   123  118  13181000    123\n",
       "1  2015-12-17   124   126  122  17284900    123\n",
       "2  2015-12-18   121   122  118  17948100    118\n",
       "3  2015-12-21   120   120  116  11670000    117\n",
       "4  2015-12-22   117   117  115   9689000    116"
      ]
     },
     "execution_count": 3,
     "metadata": {},
     "output_type": "execute_result"
    }
   ],
   "source": [
    "dataset = pd.read_csv(filename)\n",
    "dataset.info()\n",
    "dataset.head()"
   ]
  },
  {
   "cell_type": "code",
   "execution_count": 4,
   "metadata": {},
   "outputs": [
    {
     "data": {
      "image/png": "[encoded data removed]",
      "text/plain": [
       "<Figure size 640x480 with 4 Axes>"
      ]
     },
     "metadata": {},
     "output_type": "display_data"
    }
   ],
   "source": [
    "import matplotlib.pyplot as plt \n",
    "\n",
    "data_used = dataset.iloc[:, 1:4]\n",
    "\n",
    "data_used['Close'] = dataset['Close']\n",
    "\n",
    "hist = data_used.hist()\n",
    "plt.show()\n"
   ]
  },
  {
   "cell_type": "markdown",
   "metadata": {},
   "source": [
    "- [3] 학습용 데이터셋 준비"
   ]
  },
  {
   "cell_type": "code",
   "execution_count": 5,
   "metadata": {},
   "outputs": [],
   "source": [
    "import numpy as np  \n",
    "import torch \n",
    "import torch.nn as nn\n",
    "from torch.utils.data import Dataset, DataLoader\n"
   ]
  },
  {
   "cell_type": "code",
   "execution_count": 6,
   "metadata": {},
   "outputs": [],
   "source": [
    "class StockDS(Dataset):  # 클래스 선언\n",
    "    def __init__(self, filename):\n",
    "        self.csvDF = pd.read_csv(filename)            # 데이터 읽기\n",
    "\n",
    "        # 입력 데이터 정규화\n",
    "        self.data = self.csvDF.iloc[:, 1:4].values                        # 종가 제외한 데이터\n",
    "        self.data = self.data / np.max(self.data)                       # 0과 1 사이로 정규화\n",
    "\n",
    "        # 종가 데이터 정규화\n",
    "        self.label = self.csvDF[\"Close\"].values         \n",
    "        self.label = self.label / np.max(self.label)\n",
    "        \n",
    "    def __len__(self):\n",
    "        return len(self.data) - 30                                  # 사용 가능한 배치 개수\n",
    "\n",
    "    def __getitem__(self, i):\n",
    "        data = self.data[i:i+30]                                        # 입력 데이터 30일치 읽기\n",
    "        label = self.label[i+30]                                        # 다음 날 종가 데이터 \n",
    "\n",
    "        return data, label\n"
   ]
  },
  {
   "cell_type": "code",
   "execution_count": 7,
   "metadata": {},
   "outputs": [],
   "source": [
    "import torch\n",
    "import torch.nn as nn\n",
    "\n",
    "\n",
    "class StockRNN(nn.Module):\n",
    "   def __init__(self):\n",
    "       super(StockRNN, self).__init__()\n",
    "\n",
    "       self.rnn = nn.RNN(input_size=3, hidden_size=8, num_layers=5, batch_first=True)  # RNN층의 정의\n",
    "\n",
    "       # 주가를 예측하는 MLP층 정의\n",
    "       self.fc1 = nn.Linear(in_features=240, out_features=64)\n",
    "       self.fc2 = nn.Linear(in_features=64, out_features=1)\n",
    "\n",
    "       self.relu = nn.ReLU() # 활성화 함수 정의\n",
    "        \n",
    "   def forward(self, x, h0):\n",
    "       x, hn = self.rnn(x, h0)  # RNN층의 출력\n",
    "\n",
    "       # MLP층의 입력으로 사용될 수 있도록 모양 변경\n",
    "       x = torch.reshape(x, (x.shape[0], -1))\n",
    "\n",
    "       # MLP 층을 이용해 종가를 예측\n",
    "       x = self.fc1(x)\n",
    "       x = self.relu(x)\n",
    "       x = self.fc2(x)\n",
    "      \n",
    "       # 예측한 종가를 1차원 벡터로 표현\n",
    "       x = torch.flatten(x)\n",
    "\n",
    "       return x"
   ]
  },
  {
   "cell_type": "code",
   "execution_count": 8,
   "metadata": {},
   "outputs": [],
   "source": [
    "import tqdm\n",
    "\n",
    "from torch.optim.adam import Adam\n",
    "from torch.utils.data.dataloader import DataLoader\n",
    "\n",
    "device = \"cuda\" if torch.cuda.is_available() else \"cpu\"\n",
    "\n",
    "model = StockRNN().to(device)                         # 모델의 정의\n",
    "dataset = StockDS(filename)                         # 데이터셋의 정의"
   ]
  },
  {
   "cell_type": "code",
   "execution_count": 9,
   "metadata": {},
   "outputs": [],
   "source": [
    "loader = DataLoader(dataset, batch_size=32)         # 배치 크기 32로 설정"
   ]
  },
  {
   "cell_type": "code",
   "execution_count": 10,
   "metadata": {},
   "outputs": [],
   "source": [
    "optim = Adam(params=model.parameters(), lr=0.0001)          # 최적화 설정"
   ]
  },
  {
   "cell_type": "code",
   "execution_count": 11,
   "metadata": {},
   "outputs": [
    {
     "name": "stderr",
     "output_type": "stream",
     "text": [
      "epoch0 loss:0.1047932580113411: 100%|██████████| 30/30 [00:00<00:00, 43.36it/s]  \n",
      "epoch1 loss:0.021954016759991646: 100%|██████████| 30/30 [00:00<00:00, 58.40it/s]  \n",
      "epoch2 loss:0.011719448491930962: 100%|██████████| 30/30 [00:00<00:00, 55.05it/s] \n",
      "epoch3 loss:0.011994533240795135: 100%|██████████| 30/30 [00:00<00:00, 54.62it/s]\n",
      "epoch4 loss:0.012253270484507084: 100%|██████████| 30/30 [00:00<00:00, 52.44it/s]\n",
      "epoch5 loss:0.012129106558859348: 100%|██████████| 30/30 [00:00<00:00, 52.54it/s] \n",
      "epoch6 loss:0.011972082778811455: 100%|██████████| 30/30 [00:00<00:00, 59.20it/s]\n",
      "epoch7 loss:0.011825459077954292: 100%|██████████| 30/30 [00:00<00:00, 55.80it/s] \n",
      "epoch8 loss:0.011675233021378517: 100%|██████████| 30/30 [00:00<00:00, 56.62it/s] \n",
      "epoch9 loss:0.011515173129737377: 100%|██████████| 30/30 [00:00<00:00, 60.07it/s]\n",
      "epoch10 loss:0.011342027224600315: 100%|██████████| 30/30 [00:00<00:00, 59.33it/s]\n",
      "epoch11 loss:0.011152398772537708: 100%|██████████| 30/30 [00:00<00:00, 54.18it/s]\n",
      "epoch12 loss:0.009312796406447887: 100%|██████████| 30/30 [00:00<00:00, 52.93it/s]\n",
      "epoch13 loss:0.010514971800148487: 100%|██████████| 30/30 [00:00<00:00, 54.27it/s] \n",
      "epoch14 loss:0.01035137940198183: 100%|██████████| 30/30 [00:00<00:00, 58.21it/s] \n",
      "epoch15 loss:0.010004750452935696: 100%|██████████| 30/30 [00:00<00:00, 47.17it/s]\n",
      "epoch16 loss:0.009662505239248276: 100%|██████████| 30/30 [00:00<00:00, 52.06it/s] \n",
      "epoch17 loss:0.009276043623685837: 100%|██████████| 30/30 [00:00<00:00, 52.31it/s] \n",
      "epoch18 loss:0.00882453378289938: 100%|██████████| 30/30 [00:00<00:00, 55.20it/s]  \n",
      "epoch19 loss:0.008295813575387001: 100%|██████████| 30/30 [00:00<00:00, 57.59it/s] \n",
      "epoch20 loss:0.0076740034855902195: 100%|██████████| 30/30 [00:00<00:00, 55.08it/s]\n",
      "epoch21 loss:0.006939011160284281: 100%|██████████| 30/30 [00:00<00:00, 56.65it/s] \n",
      "epoch22 loss:0.006068145390599966: 100%|██████████| 30/30 [00:00<00:00, 53.82it/s]\n",
      "epoch23 loss:0.005039865151047707: 100%|██████████| 30/30 [00:00<00:00, 51.05it/s]\n",
      "epoch24 loss:0.0038468544371426105: 100%|██████████| 30/30 [00:00<00:00, 42.47it/s]\n",
      "epoch25 loss:0.002525581978261471: 100%|██████████| 30/30 [00:00<00:00, 45.74it/s] \n",
      "epoch26 loss:0.0012455452233552933: 100%|██████████| 30/30 [00:00<00:00, 50.85it/s]\n",
      "epoch27 loss:0.00044158060336485505: 100%|██████████| 30/30 [00:00<00:00, 50.12it/s]\n",
      "epoch28 loss:0.0011076126247644424: 100%|██████████| 30/30 [00:00<00:00, 52.48it/s]\n",
      "epoch29 loss:0.0023543324787169695: 100%|██████████| 30/30 [00:00<00:00, 50.77it/s]\n",
      "epoch30 loss:0.003503653686493635: 100%|██████████| 30/30 [00:00<00:00, 54.06it/s] \n",
      "epoch31 loss:0.0033944800961762667: 100%|██████████| 30/30 [00:00<00:00, 51.55it/s]\n",
      "epoch32 loss:0.0032766046933829784: 100%|██████████| 30/30 [00:00<00:00, 49.60it/s]\n",
      "epoch33 loss:0.0032891531009227037: 100%|██████████| 30/30 [00:00<00:00, 47.74it/s] \n",
      "epoch34 loss:0.0032482524402439594: 100%|██████████| 30/30 [00:00<00:00, 39.41it/s] \n",
      "epoch35 loss:0.003230526577681303: 100%|██████████| 30/30 [00:00<00:00, 47.67it/s]  \n",
      "epoch36 loss:0.003175287274643779: 100%|██████████| 30/30 [00:00<00:00, 46.39it/s]  \n",
      "epoch37 loss:0.00314801256172359: 100%|██████████| 30/30 [00:00<00:00, 47.77it/s]   \n",
      "epoch38 loss:0.0031350485514849424: 100%|██████████| 30/30 [00:00<00:00, 46.57it/s]\n",
      "epoch39 loss:0.0031103678047657013: 100%|██████████| 30/30 [00:00<00:00, 49.74it/s] \n",
      "epoch40 loss:0.003047678153961897: 100%|██████████| 30/30 [00:00<00:00, 45.54it/s]  \n",
      "epoch41 loss:0.0030149752274155617: 100%|██████████| 30/30 [00:00<00:00, 38.10it/s]\n",
      "epoch42 loss:0.002970774658024311: 100%|██████████| 30/30 [00:00<00:00, 45.63it/s]  \n",
      "epoch43 loss:0.0030681188218295574: 100%|██████████| 30/30 [00:00<00:00, 49.72it/s] \n",
      "epoch44 loss:0.002978638047352433: 100%|██████████| 30/30 [00:00<00:00, 44.57it/s]  \n",
      "epoch45 loss:0.002949969144538045: 100%|██████████| 30/30 [00:00<00:00, 43.61it/s]  \n",
      "epoch46 loss:0.002906802110373974: 100%|██████████| 30/30 [00:00<00:00, 41.34it/s]  \n",
      "epoch47 loss:0.0028605551924556494: 100%|██████████| 30/30 [00:00<00:00, 45.11it/s]\n",
      "epoch48 loss:0.0028236021753400564: 100%|██████████| 30/30 [00:00<00:00, 51.36it/s]\n",
      "epoch49 loss:0.002878614002838731: 100%|██████████| 30/30 [00:00<00:00, 42.41it/s]  \n"
     ]
    }
   ],
   "source": [
    "for epoch in range(50):\n",
    "   iterator = tqdm.tqdm(loader)\n",
    "   \n",
    "   for data, label in iterator:\n",
    "       optim.zero_grad()\n",
    "\n",
    "       h0 = torch.zeros(5, data.shape[0], 8).to(device)\n",
    "       pred = model(data.type(torch.FloatTensor).to(device), h0)\n",
    "       loss = nn.MSELoss()(pred, label.type(torch.FloatTensor).to(device))\n",
    "       \n",
    "       \n",
    "       loss.backward()\n",
    "       optim.step()\n",
    "\n",
    "       iterator.set_description(f\"epoch{epoch} loss:{loss.item()}\")\n",
    "\n",
    "torch.save(model.state_dict(), \"./rnn.pth\")  # 모델 저장"
   ]
  },
  {
   "cell_type": "code",
   "execution_count": 12,
   "metadata": {},
   "outputs": [
    {
     "data": {
      "text/plain": [
       "0.002474951557815075"
      ]
     },
     "execution_count": 12,
     "metadata": {},
     "output_type": "execute_result"
    }
   ],
   "source": [
    "import matplotlib.pyplot as plt\n",
    "\n",
    "loader = DataLoader(dataset, batch_size=1)  # 예측값을 위한 데이터 로더\n",
    "\n",
    "preds = []  # 예측값들을 저장하는 리스트\n",
    "total_loss = 0\n",
    "\n",
    "with torch.no_grad():\n",
    "   # 모델의 가중치 불러오기\n",
    "   model.load_state_dict(torch.load(\"rnn.pth\", map_location=device))\n",
    "\n",
    "   for data, label in loader:\n",
    "       h0 = torch.zeros(5, data.shape[0], 8).to(device)  # 초기 은닉상태 정의\n",
    "\n",
    "       # 모델의 예측값 출력\n",
    "       pred = model(data.type(torch.FloatTensor).to(device), h0)\n",
    "       preds.append(pred.item())                                     # 예측값 리스트에 추가\n",
    "       loss = nn.MSELoss()(pred,label.type(torch.FloatTensor).to(device))     # 손실계산\n",
    "       total_loss += loss/len(loader)                                   # 손실의 평균치 계산\n",
    "\n",
    "total_loss.item()"
   ]
  },
  {
   "cell_type": "code",
   "execution_count": 13,
   "metadata": {},
   "outputs": [
    {
     "data": {
      "image/png": "[encoded data removed]",
      "text/plain": [
       "<Figure size 640x480 with 1 Axes>"
      ]
     },
     "metadata": {},
     "output_type": "display_data"
    }
   ],
   "source": [
    "plt.plot(preds, label=\"prediction\")\n",
    "plt.plot(dataset.label[30:], label=\"actual\")\n",
    "plt.legend()\n",
    "plt.show()"
   ]
  }
 ],
 "metadata": {
  "kernelspec": {
   "display_name": "TORCH_PY38",
   "language": "python",
   "name": "python3"
  },
  "language_info": {
   "codemirror_mode": {
    "name": "ipython",
    "version": 3
   },
   "file_extension": ".py",
   "mimetype": "text/x-python",
   "name": "python",
   "nbconvert_exporter": "python",
   "pygments_lexer": "ipython3",
   "version": "3.8.19"
  }
 },
 "nbformat": 4,
 "nbformat_minor": 2
}
