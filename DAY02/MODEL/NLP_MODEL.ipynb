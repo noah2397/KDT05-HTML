{
 "cells": [
  {
   "cell_type": "code",
   "execution_count": 1,
   "metadata": {},
   "outputs": [
    {
     "name": "stdout",
     "output_type": "stream",
     "text": [
      "예측 : 두한\n"
     ]
    }
   ],
   "source": [
    "from NLP_MODEL import *\n",
    "import torch\n",
    "\n",
    "MODEL = torch.load(\"model.pth\")  \n",
    "text = '오늘 아침 ㅜ머먹죠!!!!!!!!!!'\n",
    "predict(MODEL, text)"
   ]
  }
 ],
 "metadata": {
  "kernelspec": {
   "display_name": "TEXT_017_220_38",
   "language": "python",
   "name": "python3"
  },
  "language_info": {
   "codemirror_mode": {
    "name": "ipython",
    "version": 3
   },
   "file_extension": ".py",
   "mimetype": "text/x-python",
   "name": "python",
   "nbconvert_exporter": "python",
   "pygments_lexer": "ipython3",
   "version": "3.8.19"
  }
 },
 "nbformat": 4,
 "nbformat_minor": 2
}
